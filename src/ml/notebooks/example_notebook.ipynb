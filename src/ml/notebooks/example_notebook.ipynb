{
 "cells": [
  {
   "cell_type": "markdown",
   "metadata": {},
   "source": [
    "# Using Hermione ML to treat missing values"
   ]
  },
  {
   "cell_type": "markdown",
   "metadata": {},
   "source": [
    "![title](tenor.gif)"
   ]
  },
  {
   "cell_type": "markdown",
   "metadata": {},
   "source": [
    "**It is necessary to change the working directory so the project structure works properly:**"
   ]
  },
  {
   "cell_type": "code",
   "execution_count": 1,
   "metadata": {},
   "outputs": [],
   "source": [
    "import sys\n",
    "sys.path.append(\"../../\")"
   ]
  },
  {
   "cell_type": "markdown",
   "metadata": {},
   "source": [
    "From this point, it's on you!\n",
    "\n",
    "---"
   ]
  },
  {
   "cell_type": "code",
   "execution_count": 6,
   "metadata": {},
   "outputs": [
    {
     "name": "stdout",
     "output_type": "stream",
     "text": [
      "Collecting category_encoders\n",
      "  Using cached category_encoders-2.2.2-py2.py3-none-any.whl (80 kB)\n",
      "Requirement already satisfied, skipping upgrade: patsy>=0.5.1 in c:\\users\\marin.desktop-jcc1rh5\\anaconda3\\lib\\site-packages (from category_encoders) (0.5.1)\n",
      "Requirement already satisfied, skipping upgrade: pandas>=0.21.1 in c:\\users\\marin.desktop-jcc1rh5\\anaconda3\\lib\\site-packages (from category_encoders) (1.0.1)\n",
      "Requirement already satisfied, skipping upgrade: scikit-learn>=0.20.0 in c:\\users\\marin.desktop-jcc1rh5\\anaconda3\\lib\\site-packages (from category_encoders) (0.20.0)\n",
      "Requirement already satisfied, skipping upgrade: scipy>=1.0.0 in c:\\users\\marin.desktop-jcc1rh5\\anaconda3\\lib\\site-packages (from category_encoders) (1.4.1)\n",
      "Requirement already satisfied, skipping upgrade: statsmodels>=0.9.0 in c:\\users\\marin.desktop-jcc1rh5\\anaconda3\\lib\\site-packages (from category_encoders) (0.11.0)\n",
      "Requirement already satisfied, skipping upgrade: numpy>=1.14.0 in c:\\users\\marin.desktop-jcc1rh5\\anaconda3\\lib\\site-packages (from category_encoders) (1.18.1)\n",
      "Requirement already satisfied, skipping upgrade: six in c:\\users\\marin.desktop-jcc1rh5\\anaconda3\\lib\\site-packages (from patsy>=0.5.1->category_encoders) (1.14.0)\n",
      "Requirement already satisfied, skipping upgrade: pytz>=2017.2 in c:\\users\\marin.desktop-jcc1rh5\\anaconda3\\lib\\site-packages (from pandas>=0.21.1->category_encoders) (2019.3)\n",
      "Requirement already satisfied, skipping upgrade: python-dateutil>=2.6.1 in c:\\users\\marin.desktop-jcc1rh5\\anaconda3\\lib\\site-packages (from pandas>=0.21.1->category_encoders) (2.8.1)\n",
      "Installing collected packages: category-encoders\n",
      "Successfully installed category-encoders-2.2.2\n"
     ]
    },
    {
     "name": "stderr",
     "output_type": "stream",
     "text": [
      "WARNING: You are using pip version 20.2.2; however, version 20.2.3 is available.\n",
      "You should consider upgrading via the 'C:\\Users\\marin.DESKTOP-JCC1RH5\\anaconda3\\python.exe -m pip install --upgrade pip' command.\n"
     ]
    }
   ],
   "source": [
    "!pip install --upgrade category_encoders"
   ]
  },
  {
   "cell_type": "code",
   "execution_count": 10,
   "metadata": {},
   "outputs": [
    {
     "name": "stdout",
     "output_type": "stream",
     "text": [
      "Collecting mlflow\n",
      "  Downloading mlflow-1.11.0-py3-none-any.whl (13.9 MB)\n",
      "Requirement already satisfied: click>=7.0 in c:\\users\\marin.desktop-jcc1rh5\\appdata\\roaming\\python\\python37\\site-packages (from mlflow) (7.1.2)\n",
      "Processing c:\\users\\marin.desktop-jcc1rh5\\appdata\\local\\pip\\cache\\wheels\\69\\38\\7a\\072b5863ca334d012821a287fd1d066cea33abdcda3ef2f878\\querystring_parser-1.2.4-py3-none-any.whl\n",
      "Collecting docker>=4.0.0\n",
      "  Downloading docker-4.3.1-py2.py3-none-any.whl (145 kB)\n",
      "Requirement already satisfied: entrypoints in c:\\users\\marin.desktop-jcc1rh5\\anaconda3\\lib\\site-packages (from mlflow) (0.3)\n",
      "Collecting waitress; platform_system == \"Windows\"\n",
      "  Using cached waitress-1.4.4-py2.py3-none-any.whl (58 kB)\n",
      "Requirement already satisfied: Flask in c:\\users\\marin.desktop-jcc1rh5\\anaconda3\\lib\\site-packages (from mlflow) (1.1.1)\n",
      "Requirement already satisfied: cloudpickle in c:\\users\\marin.desktop-jcc1rh5\\anaconda3\\lib\\site-packages (from mlflow) (1.3.0)\n",
      "Requirement already satisfied: requests>=2.17.3 in c:\\users\\marin.desktop-jcc1rh5\\anaconda3\\lib\\site-packages (from mlflow) (2.22.0)\n",
      "Requirement already satisfied: numpy in c:\\users\\marin.desktop-jcc1rh5\\anaconda3\\lib\\site-packages (from mlflow) (1.18.1)\n",
      "Requirement already satisfied: sqlalchemy<=1.3.13 in c:\\users\\marin.desktop-jcc1rh5\\anaconda3\\lib\\site-packages (from mlflow) (1.3.13)\n",
      "Requirement already satisfied: six>=1.10.0 in c:\\users\\marin.desktop-jcc1rh5\\anaconda3\\lib\\site-packages (from mlflow) (1.14.0)\n",
      "Collecting gitpython>=2.1.0\n",
      "  Downloading GitPython-3.1.9-py3-none-any.whl (159 kB)\n",
      "Requirement already satisfied: pandas in c:\\users\\marin.desktop-jcc1rh5\\anaconda3\\lib\\site-packages (from mlflow) (1.0.1)\n",
      "Collecting azure-storage-blob>=12.0\n",
      "  Downloading azure_storage_blob-12.5.0-py2.py3-none-any.whl (326 kB)\n",
      "Collecting gorilla\n",
      "  Using cached gorilla-0.3.0-py2.py3-none-any.whl (11 kB)\n",
      "Collecting prometheus-flask-exporter\n",
      "  Downloading prometheus_flask_exporter-0.18.1.tar.gz (21 kB)\n",
      "Requirement already satisfied: python-dateutil in c:\\users\\marin.desktop-jcc1rh5\\anaconda3\\lib\\site-packages (from mlflow) (2.8.1)\n",
      "Collecting sqlparse\n",
      "  Downloading sqlparse-0.4.1-py3-none-any.whl (42 kB)\n",
      "Collecting databricks-cli>=0.8.7\n",
      "  Downloading databricks-cli-0.12.1.tar.gz (55 kB)\n",
      "Requirement already satisfied: protobuf>=3.6.0 in c:\\users\\marin.desktop-jcc1rh5\\appdata\\roaming\\python\\python37\\site-packages (from mlflow) (3.12.2)\n",
      "Requirement already satisfied: pyyaml in c:\\users\\marin.desktop-jcc1rh5\\anaconda3\\lib\\site-packages (from mlflow) (5.3)\n",
      "Collecting alembic<=1.4.1\n",
      "  Downloading alembic-1.4.1.tar.gz (1.1 MB)\n",
      "Collecting websocket-client>=0.32.0\n",
      "  Using cached websocket_client-0.57.0-py2.py3-none-any.whl (200 kB)\n",
      "Requirement already satisfied: pywin32==227; sys_platform == \"win32\" in c:\\users\\marin.desktop-jcc1rh5\\anaconda3\\lib\\site-packages (from docker>=4.0.0->mlflow) (227)\n",
      "Requirement already satisfied: Jinja2>=2.10.1 in c:\\users\\marin.desktop-jcc1rh5\\anaconda3\\lib\\site-packages (from Flask->mlflow) (2.11.1)\n",
      "Requirement already satisfied: Werkzeug>=0.15 in c:\\users\\marin.desktop-jcc1rh5\\anaconda3\\lib\\site-packages (from Flask->mlflow) (1.0.0)\n",
      "Requirement already satisfied: itsdangerous>=0.24 in c:\\users\\marin.desktop-jcc1rh5\\anaconda3\\lib\\site-packages (from Flask->mlflow) (1.1.0)\n",
      "Requirement already satisfied: certifi>=2017.4.17 in c:\\users\\marin.desktop-jcc1rh5\\anaconda3\\lib\\site-packages (from requests>=2.17.3->mlflow) (2019.11.28)\n",
      "Requirement already satisfied: urllib3!=1.25.0,!=1.25.1,<1.26,>=1.21.1 in c:\\users\\marin.desktop-jcc1rh5\\anaconda3\\lib\\site-packages (from requests>=2.17.3->mlflow) (1.25.8)\n",
      "Requirement already satisfied: idna<2.9,>=2.5 in c:\\users\\marin.desktop-jcc1rh5\\anaconda3\\lib\\site-packages (from requests>=2.17.3->mlflow) (2.8)\n",
      "Requirement already satisfied: chardet<3.1.0,>=3.0.2 in c:\\users\\marin.desktop-jcc1rh5\\anaconda3\\lib\\site-packages (from requests>=2.17.3->mlflow) (3.0.4)\n",
      "Collecting gitdb<5,>=4.0.1\n",
      "  Using cached gitdb-4.0.5-py3-none-any.whl (63 kB)\n",
      "Requirement already satisfied: pytz>=2017.2 in c:\\users\\marin.desktop-jcc1rh5\\anaconda3\\lib\\site-packages (from pandas->mlflow) (2019.3)\n",
      "Collecting azure-core<2.0.0,>=1.6.0\n",
      "  Downloading azure_core-1.8.2-py2.py3-none-any.whl (122 kB)\n",
      "Collecting msrest>=0.6.10\n",
      "  Downloading msrest-0.6.19-py2.py3-none-any.whl (84 kB)\n",
      "Requirement already satisfied: cryptography>=2.1.4 in c:\\users\\marin.desktop-jcc1rh5\\anaconda3\\lib\\site-packages (from azure-storage-blob>=12.0->mlflow) (2.8)\n",
      "Requirement already satisfied: prometheus_client in c:\\users\\marin.desktop-jcc1rh5\\anaconda3\\lib\\site-packages (from prometheus-flask-exporter->mlflow) (0.7.1)\n",
      "Collecting tabulate>=0.7.7\n",
      "  Using cached tabulate-0.8.7-py3-none-any.whl (24 kB)\n",
      "Collecting tenacity>=6.2.0\n",
      "  Downloading tenacity-6.2.0-py2.py3-none-any.whl (24 kB)\n",
      "Requirement already satisfied: setuptools in c:\\users\\marin.desktop-jcc1rh5\\anaconda3\\lib\\site-packages (from protobuf>=3.6.0->mlflow) (45.2.0.post20200210)\n",
      "Collecting Mako\n",
      "  Using cached Mako-1.1.3-py2.py3-none-any.whl (75 kB)\n",
      "Collecting python-editor>=0.3\n",
      "  Using cached python_editor-1.0.4-py3-none-any.whl (4.9 kB)\n",
      "Requirement already satisfied: MarkupSafe>=0.23 in c:\\users\\marin.desktop-jcc1rh5\\anaconda3\\lib\\site-packages (from Jinja2>=2.10.1->Flask->mlflow) (1.1.1)\n",
      "Collecting smmap<4,>=3.0.1\n",
      "  Using cached smmap-3.0.4-py2.py3-none-any.whl (25 kB)\n",
      "Collecting requests-oauthlib>=0.5.0\n",
      "  Using cached requests_oauthlib-1.3.0-py2.py3-none-any.whl (23 kB)\n",
      "Collecting isodate>=0.6.0\n",
      "  Using cached isodate-0.6.0-py2.py3-none-any.whl (45 kB)\n",
      "Requirement already satisfied: cffi!=1.11.3,>=1.8 in c:\\users\\marin.desktop-jcc1rh5\\anaconda3\\lib\\site-packages (from cryptography>=2.1.4->azure-storage-blob>=12.0->mlflow) (1.14.0)\n",
      "Collecting oauthlib>=3.0.0\n",
      "  Using cached oauthlib-3.1.0-py2.py3-none-any.whl (147 kB)\n",
      "Requirement already satisfied: pycparser in c:\\users\\marin.desktop-jcc1rh5\\anaconda3\\lib\\site-packages (from cffi!=1.11.3,>=1.8->cryptography>=2.1.4->azure-storage-blob>=12.0->mlflow) (2.19)\n",
      "Building wheels for collected packages: prometheus-flask-exporter, databricks-cli, alembic\n",
      "  Building wheel for prometheus-flask-exporter (setup.py): started\n",
      "  Building wheel for prometheus-flask-exporter (setup.py): finished with status 'done'\n",
      "  Created wheel for prometheus-flask-exporter: filename=prometheus_flask_exporter-0.18.1-py3-none-any.whl size=17163 sha256=838c79dfd2264ce1f2225a3400aa3a89ca274acd0d568dafb9dce1d1b5d8fbfb\n",
      "  Stored in directory: c:\\users\\marin.desktop-jcc1rh5\\appdata\\local\\pip\\cache\\wheels\\c4\\b6\\b5\\e76659f3b2a3a226565e27f0a7eb7a3ac93c3f4d68acfbe617\n",
      "  Building wheel for databricks-cli (setup.py): started\n",
      "  Building wheel for databricks-cli (setup.py): finished with status 'done'\n",
      "  Created wheel for databricks-cli: filename=databricks_cli-0.12.1-py3-none-any.whl size=101147 sha256=5e0509ae9c9c49b015028798782f720ddb09e495e2cb87a9c440d590a917fd72\n",
      "  Stored in directory: c:\\users\\marin.desktop-jcc1rh5\\appdata\\local\\pip\\cache\\wheels\\7b\\86\\6d\\aaba4f7e925a1a1caffa5f3d1206e8e61bd8b5b6a00bf8e476\n",
      "  Building wheel for alembic (setup.py): started\n",
      "  Building wheel for alembic (setup.py): finished with status 'done'\n",
      "  Created wheel for alembic: filename=alembic-1.4.1-py2.py3-none-any.whl size=158159 sha256=8ba84f318b1d7dd388729e0cfc48bb50d8d59a2bb8e20a62c7c7bc646abdc0f9\n",
      "  Stored in directory: c:\\users\\marin.desktop-jcc1rh5\\appdata\\local\\pip\\cache\\wheels\\be\\5d\\0a\\9e13f53f4f5dfb67cd8d245bb7cdffe12f135846f491a283e3\n",
      "Successfully built prometheus-flask-exporter databricks-cli alembic\n",
      "Installing collected packages: querystring-parser, websocket-client, docker, waitress, smmap, gitdb, gitpython, azure-core, oauthlib, requests-oauthlib, isodate, msrest, azure-storage-blob, gorilla, prometheus-flask-exporter, sqlparse, tabulate, tenacity, databricks-cli, Mako, python-editor, alembic, mlflow\n",
      "Successfully installed Mako-1.1.3 alembic-1.4.1 azure-core-1.8.2 azure-storage-blob-12.5.0 databricks-cli-0.12.1 docker-4.3.1 gitdb-4.0.5 gitpython-3.1.9 gorilla-0.3.0 isodate-0.6.0 mlflow-1.11.0 msrest-0.6.19 oauthlib-3.1.0 prometheus-flask-exporter-0.18.1 python-editor-1.0.4 querystring-parser-1.2.4 requests-oauthlib-1.3.0 smmap-3.0.4 sqlparse-0.4.1 tabulate-0.8.7 tenacity-6.2.0 waitress-1.4.4 websocket-client-0.57.0\n"
     ]
    },
    {
     "name": "stderr",
     "output_type": "stream",
     "text": [
      "WARNING: You are using pip version 20.2.2; however, version 20.2.3 is available.\n",
      "You should consider upgrading via the 'C:\\Users\\marin.DESKTOP-JCC1RH5\\anaconda3\\python.exe -m pip install --upgrade pip' command.\n"
     ]
    }
   ],
   "source": [
    "!pip install mlflow"
   ]
  },
  {
   "cell_type": "code",
   "execution_count": 11,
   "metadata": {},
   "outputs": [],
   "source": [
    "import pandas as pd\n",
    "\n",
    "from ml.data_source.spreadsheet import Spreadsheet\n",
    "from ml.preprocessing.preprocessing import Preprocessing\n",
    "from ml.model.trainer import TrainerSklearn\n",
    "\n",
    "from sklearn.model_selection import train_test_split\n",
    "from sklearn.ensemble import RandomForestClassifier"
   ]
  },
  {
   "cell_type": "code",
   "execution_count": 30,
   "metadata": {},
   "outputs": [],
   "source": [
    "df = Spreadsheet().get_data('../../../data/raw/train.csv')"
   ]
  },
  {
   "cell_type": "code",
   "execution_count": 13,
   "metadata": {},
   "outputs": [
    {
     "data": {
      "text/plain": [
       "Index(['Survived', 'Pclass', 'Sex', 'Age'], dtype='object')"
      ]
     },
     "execution_count": 13,
     "metadata": {},
     "output_type": "execute_result"
    }
   ],
   "source": [
    "df.columns"
   ]
  },
  {
   "cell_type": "code",
   "execution_count": 14,
   "metadata": {},
   "outputs": [],
   "source": [
    "p = Preprocessing()"
   ]
  },
  {
   "cell_type": "code",
   "execution_count": 15,
   "metadata": {},
   "outputs": [
    {
     "name": "stdout",
     "output_type": "stream",
     "text": [
      "Cleaning data\n",
      "Category encoding\n"
     ]
    }
   ],
   "source": [
    "df = p.clean_data(df)\n",
    "df = p.categ_encoding(df)"
   ]
  },
  {
   "cell_type": "code",
   "execution_count": 16,
   "metadata": {},
   "outputs": [
    {
     "data": {
      "text/html": [
       "<div>\n",
       "<style scoped>\n",
       "    .dataframe tbody tr th:only-of-type {\n",
       "        vertical-align: middle;\n",
       "    }\n",
       "\n",
       "    .dataframe tbody tr th {\n",
       "        vertical-align: top;\n",
       "    }\n",
       "\n",
       "    .dataframe thead th {\n",
       "        text-align: right;\n",
       "    }\n",
       "</style>\n",
       "<table border=\"1\" class=\"dataframe\">\n",
       "  <thead>\n",
       "    <tr style=\"text-align: right;\">\n",
       "      <th></th>\n",
       "      <th>Survived</th>\n",
       "      <th>Age</th>\n",
       "      <th>Pclass_1</th>\n",
       "      <th>Pclass_2</th>\n",
       "      <th>Pclass_3</th>\n",
       "      <th>Sex_female</th>\n",
       "      <th>Sex_male</th>\n",
       "    </tr>\n",
       "  </thead>\n",
       "  <tbody>\n",
       "    <tr>\n",
       "      <th>0</th>\n",
       "      <td>0</td>\n",
       "      <td>22.0</td>\n",
       "      <td>0</td>\n",
       "      <td>0</td>\n",
       "      <td>1</td>\n",
       "      <td>0</td>\n",
       "      <td>1</td>\n",
       "    </tr>\n",
       "    <tr>\n",
       "      <th>1</th>\n",
       "      <td>1</td>\n",
       "      <td>38.0</td>\n",
       "      <td>1</td>\n",
       "      <td>0</td>\n",
       "      <td>0</td>\n",
       "      <td>1</td>\n",
       "      <td>0</td>\n",
       "    </tr>\n",
       "    <tr>\n",
       "      <th>2</th>\n",
       "      <td>1</td>\n",
       "      <td>26.0</td>\n",
       "      <td>0</td>\n",
       "      <td>0</td>\n",
       "      <td>1</td>\n",
       "      <td>1</td>\n",
       "      <td>0</td>\n",
       "    </tr>\n",
       "    <tr>\n",
       "      <th>3</th>\n",
       "      <td>1</td>\n",
       "      <td>35.0</td>\n",
       "      <td>1</td>\n",
       "      <td>0</td>\n",
       "      <td>0</td>\n",
       "      <td>1</td>\n",
       "      <td>0</td>\n",
       "    </tr>\n",
       "    <tr>\n",
       "      <th>4</th>\n",
       "      <td>0</td>\n",
       "      <td>35.0</td>\n",
       "      <td>0</td>\n",
       "      <td>0</td>\n",
       "      <td>1</td>\n",
       "      <td>0</td>\n",
       "      <td>1</td>\n",
       "    </tr>\n",
       "  </tbody>\n",
       "</table>\n",
       "</div>"
      ],
      "text/plain": [
       "   Survived   Age  Pclass_1  Pclass_2  Pclass_3  Sex_female  Sex_male\n",
       "0         0  22.0         0         0         1           0         1\n",
       "1         1  38.0         1         0         0           1         0\n",
       "2         1  26.0         0         0         1           1         0\n",
       "3         1  35.0         1         0         0           1         0\n",
       "4         0  35.0         0         0         1           0         1"
      ]
     },
     "execution_count": 16,
     "metadata": {},
     "output_type": "execute_result"
    }
   ],
   "source": [
    "df.head()"
   ]
  },
  {
   "cell_type": "code",
   "execution_count": 17,
   "metadata": {},
   "outputs": [],
   "source": [
    "X = df.drop(columns=[\"Survived\"])\n",
    "y = df[\"Survived\"]"
   ]
  },
  {
   "cell_type": "code",
   "execution_count": 18,
   "metadata": {},
   "outputs": [
    {
     "data": {
      "text/plain": [
       "((499, 6), (215, 6), (499,), (215,))"
      ]
     },
     "execution_count": 18,
     "metadata": {},
     "output_type": "execute_result"
    }
   ],
   "source": [
    "# Ensure the same random state passed to TrainerSkleran().train()\n",
    "X_train, X_test, y_train, y_test = train_test_split(X, y, test_size=0.3, random_state=123)\n",
    "X_train.shape, X_test.shape, y_train.shape, y_test.shape"
   ]
  },
  {
   "cell_type": "code",
   "execution_count": 19,
   "metadata": {},
   "outputs": [
    {
     "name": "stderr",
     "output_type": "stream",
     "text": [
      "C:\\Users\\marin.DESKTOP-JCC1RH5\\anaconda3\\lib\\site-packages\\sklearn\\ensemble\\forest.py:248: FutureWarning: The default value of n_estimators will change from 10 in version 0.20 to 100 in 0.22.\n",
      "  \"10 in version 0.20 to 100 in 0.22.\", FutureWarning)\n"
     ]
    }
   ],
   "source": [
    "rf = TrainerSklearn().train(X, y, classification=True, \n",
    "                            algorithm=RandomForestClassifier, \n",
    "                            preprocessing=p,\n",
    "                           data_split=('train_test', {'test_size':.3}),\n",
    "                           random_state=123)"
   ]
  },
  {
   "cell_type": "code",
   "execution_count": 20,
   "metadata": {},
   "outputs": [
    {
     "data": {
      "text/plain": [
       "{'accuracy': 0.7534883720930232,\n",
       " 'f1': 0.6826347305389222,\n",
       " 'precision': 0.7037037037037037,\n",
       " 'recall': 0.6627906976744186,\n",
       " 'roc_auc': 0.7993510005408329}"
      ]
     },
     "execution_count": 20,
     "metadata": {},
     "output_type": "execute_result"
    }
   ],
   "source": [
    "rf.get_metrics()"
   ]
  },
  {
   "cell_type": "code",
   "execution_count": 21,
   "metadata": {},
   "outputs": [
    {
     "data": {
      "text/plain": [
       "['Age', 'Pclass_1', 'Pclass_2', 'Pclass_3', 'Sex_female', 'Sex_male']"
      ]
     },
     "execution_count": 21,
     "metadata": {},
     "output_type": "execute_result"
    }
   ],
   "source": [
    "rf.get_columns()"
   ]
  },
  {
   "cell_type": "code",
   "execution_count": 22,
   "metadata": {},
   "outputs": [
    {
     "data": {
      "text/plain": [
       "array([1.        , 0.        , 0.41595238, 1.        , 0.1       ,\n",
       "       0.        , 0.        , 0.        , 0.        , 0.9       ,\n",
       "       0.59047619, 0.11472222, 0.11472222, 1.        , 1.        ,\n",
       "       0.32      , 0.        , 0.39411255, 1.        , 0.        ,\n",
       "       0.195     , 1.        , 0.45833333, 0.9       , 1.        ,\n",
       "       1.        , 0.        , 1.        , 0.        , 0.27248779,\n",
       "       0.        , 0.        , 1.        , 0.05      , 0.        ,\n",
       "       0.3       , 0.39411255, 0.        , 0.32477633, 0.        ,\n",
       "       0.        , 0.        , 0.43333333, 0.        , 1.        ,\n",
       "       1.        , 0.        , 1.        , 1.        , 0.36666667,\n",
       "       0.        , 0.2       , 0.        , 0.1       , 1.        ,\n",
       "       0.39411255, 1.        , 0.        , 0.11472222, 0.        ,\n",
       "       1.        , 1.        , 0.        , 0.        , 0.8       ,\n",
       "       0.        , 0.        , 1.        , 0.        , 0.39411255,\n",
       "       0.        , 0.1       , 0.        , 0.35166667, 0.9       ,\n",
       "       0.        , 0.        , 0.        , 0.11472222, 0.        ,\n",
       "       0.32477633, 0.3       , 1.        , 0.45833333, 0.43333333,\n",
       "       1.        , 1.        , 1.        , 0.24396825, 0.25      ,\n",
       "       0.075     , 0.41595238, 0.7       , 0.15290404, 1.        ,\n",
       "       0.4       , 0.25      , 1.        , 0.125     , 1.        ,\n",
       "       0.        , 1.        , 0.1706746 , 0.46333333, 0.29833333,\n",
       "       0.        , 1.        , 0.        , 0.025     , 0.        ,\n",
       "       0.        , 0.33333333, 1.        , 1.        , 0.4       ,\n",
       "       0.15290404, 0.8       , 0.        , 0.        , 0.        ,\n",
       "       1.        , 0.24396825, 0.        , 0.29833333, 0.        ,\n",
       "       0.        , 0.        , 0.9       , 0.27248779, 0.76357143,\n",
       "       0.76666667, 1.        , 0.60166667, 0.2       , 0.11472222,\n",
       "       0.        , 0.        , 0.        , 0.        , 0.        ,\n",
       "       0.55166667, 0.        , 1.        , 0.        , 0.        ,\n",
       "       1.        , 0.        , 0.1706746 , 0.8       , 0.        ,\n",
       "       1.        , 1.        , 0.3422619 , 1.        , 0.        ,\n",
       "       0.3422619 , 0.5       , 0.15290404, 0.        , 0.075     ,\n",
       "       0.0375    , 0.9       , 0.        , 0.        , 0.        ,\n",
       "       0.42166667, 1.        , 0.        , 0.        , 0.        ,\n",
       "       0.1       , 0.        , 1.        , 0.        , 0.        ,\n",
       "       1.        , 0.79444444, 1.        , 1.        , 0.24396825,\n",
       "       1.        , 0.        , 0.        , 1.        , 1.        ,\n",
       "       1.        , 0.1       , 0.4       , 1.        , 0.        ,\n",
       "       0.        , 0.46666667, 0.48833333, 0.        , 0.46333333,\n",
       "       0.        , 0.        , 0.        , 0.        , 0.76666667,\n",
       "       1.        , 0.7       , 1.        , 0.20785714, 1.        ,\n",
       "       0.        , 1.        , 0.24396825, 0.        , 1.        ,\n",
       "       0.        , 1.        , 0.        , 0.7       , 0.        ])"
      ]
     },
     "execution_count": 22,
     "metadata": {},
     "output_type": "execute_result"
    }
   ],
   "source": [
    "rf.predict_proba(X_test, binary=True)"
   ]
  },
  {
   "cell_type": "code",
   "execution_count": 23,
   "metadata": {},
   "outputs": [],
   "source": [
    "# Predicting new data\n",
    "def predict_new(X, model, probs=True):\n",
    "    X = p.clean_data(X)\n",
    "    X = p.categ_encoding(X)\n",
    "    \n",
    "    columns = model.get_columns()\n",
    "    for col in columns:\n",
    "        if col not in X.columns:\n",
    "            X[col] = 0\n",
    "    print(X)\n",
    "    if probs:\n",
    "        return model.predict_proba(X)\n",
    "    else:\n",
    "        return model.predict(X)"
   ]
  },
  {
   "cell_type": "code",
   "execution_count": 24,
   "metadata": {},
   "outputs": [
    {
     "data": {
      "text/html": [
       "<div>\n",
       "<style scoped>\n",
       "    .dataframe tbody tr th:only-of-type {\n",
       "        vertical-align: middle;\n",
       "    }\n",
       "\n",
       "    .dataframe tbody tr th {\n",
       "        vertical-align: top;\n",
       "    }\n",
       "\n",
       "    .dataframe thead th {\n",
       "        text-align: right;\n",
       "    }\n",
       "</style>\n",
       "<table border=\"1\" class=\"dataframe\">\n",
       "  <thead>\n",
       "    <tr style=\"text-align: right;\">\n",
       "      <th></th>\n",
       "      <th>Pclass</th>\n",
       "      <th>Sex</th>\n",
       "      <th>Age</th>\n",
       "    </tr>\n",
       "  </thead>\n",
       "  <tbody>\n",
       "    <tr>\n",
       "      <th>0</th>\n",
       "      <td>3</td>\n",
       "      <td>male</td>\n",
       "      <td>4</td>\n",
       "    </tr>\n",
       "  </tbody>\n",
       "</table>\n",
       "</div>"
      ],
      "text/plain": [
       "   Pclass   Sex  Age\n",
       "0       3  male    4"
      ]
     },
     "execution_count": 24,
     "metadata": {},
     "output_type": "execute_result"
    }
   ],
   "source": [
    "new_data = pd.DataFrame({\n",
    "    'Pclass':3,\n",
    "    'Sex': 'male',\n",
    "    'Age':4\n",
    "}, index=[0])\n",
    "\n",
    "new_data"
   ]
  },
  {
   "cell_type": "code",
   "execution_count": 25,
   "metadata": {},
   "outputs": [
    {
     "name": "stdout",
     "output_type": "stream",
     "text": [
      "Cleaning data\n",
      "Category encoding\n",
      "   Age  Pclass_3  Sex_male  Pclass_1  Pclass_2  Sex_female\n",
      "0    4         1         1         0         0           0\n"
     ]
    },
    {
     "data": {
      "text/plain": [
       "array([[0.64833333, 0.35166667]])"
      ]
     },
     "execution_count": 25,
     "metadata": {},
     "output_type": "execute_result"
    }
   ],
   "source": [
    "predict_new(new_data, rf)"
   ]
  }
 ],
 "metadata": {
  "kernelspec": {
   "display_name": "Python 3.7.6 64-bit",
   "language": "python",
   "name": "python37664bit56a9d68237e9467280680f5ef087734a"
  },
  "language_info": {
   "codemirror_mode": {
    "name": "ipython",
    "version": 3
   },
   "file_extension": ".py",
   "mimetype": "text/x-python",
   "name": "python",
   "nbconvert_exporter": "python",
   "pygments_lexer": "ipython3",
   "version": "3.7.6"
  }
 },
 "nbformat": 4,
 "nbformat_minor": 4
}
